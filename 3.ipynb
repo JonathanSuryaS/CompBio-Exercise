{
 "cells": [
  {
   "cell_type": "markdown",
   "metadata": {},
   "source": [
    "# Protein\n",
    "Nucleotide: DNA -> RNA -> Protein"
   ]
  },
  {
   "cell_type": "markdown",
   "metadata": {},
   "source": [
    "# Libraries"
   ]
  },
  {
   "cell_type": "code",
   "execution_count": 1,
   "metadata": {},
   "outputs": [],
   "source": [
    "from Bio.Seq import Seq"
   ]
  },
  {
   "cell_type": "markdown",
   "metadata": {},
   "source": [
    "# Data"
   ]
  },
  {
   "cell_type": "code",
   "execution_count": 2,
   "metadata": {},
   "outputs": [],
   "source": [
    "SeqA = Seq('ATGCGTTTATGACGTATCTGAAGTCTACTAGGGTGATCTGACTAA')\n",
    "SeqB = Seq('GTGTTAGTGCGCTAGTGCTGACTAGGTACAGTAGCTAGTTACTAG')"
   ]
  },
  {
   "cell_type": "markdown",
   "metadata": {},
   "source": [
    "# Quest\n",
    "Please use Biopython to:<br>\n",
    "•\tTranscribe the DNA sequence A and sequence B into mRNA.<br>\n",
    "•\tCombine 24 starting nucleotides of mRNA sequence A and 21 ending nucleotides of mRNA sequence B and set it as mRNA sequence C.<br>\n",
    "•\tTranslate the mRNA sequence A, sequence B, and sequence C into amino acids sequences.<br>\n",
    "•\tTranscribe back the mRNA sequence C into DNA.<br>\n",
    "•\tCalculate the complementary sequences of DNA sequence A, sequence B, and sequence C.<br>\n"
   ]
  },
  {
   "cell_type": "markdown",
   "metadata": {},
   "source": [
    "### Transcribe the DNA sequence A and sequence B into mRNA."
   ]
  },
  {
   "cell_type": "code",
   "execution_count": 5,
   "metadata": {},
   "outputs": [
    {
     "name": "stdout",
     "output_type": "stream",
     "text": [
      "Sequence A DNA: AUGCGUUUAUGACGUAUCUGAAGUCUACUAGGGUGAUCUGACUAA\n",
      "Sequence B DNA: GUGUUAGUGCGCUAGUGCUGACUAGGUACAGUAGCUAGUUACUAG\n"
     ]
    }
   ],
   "source": [
    "mRNAa = SeqA.transcribe()\n",
    "mRNAb = SeqB.transcribe()\n",
    "\n",
    "print(f'Sequence A DNA: {mRNAa}')\n",
    "print(f'Sequence B DNA: {mRNAb}')"
   ]
  },
  {
   "cell_type": "markdown",
   "metadata": {},
   "source": [
    "Kemungkinan DNA yang diberikan adalah DNA sense (5 - 3) sehingga perlu direplika terlebih dahulu menjadi antisense (3 - 5) karena:"
   ]
  },
  {
   "cell_type": "code",
   "execution_count": 16,
   "metadata": {},
   "outputs": [
    {
     "name": "stdout",
     "output_type": "stream",
     "text": [
      "Sense:\n",
      "ATGCGTTTATGACGTATCTGAAGTCTACTAGGGTGATCTGACTAA\n",
      "GTGTTAGTGCGCTAGTGCTGACTAGGTACAGTAGCTAGTTACTAG\n",
      "\n",
      "Antisense:\n",
      "TACGCAAATACTGCATAGACTTCAGATGATCCCACTAGACTGATT\n",
      "CACAATCACGCGATCACGACTGATCCATGTCATCGATCAATGATC\n",
      "\n",
      "MRNA:\n",
      "AUGCGUUUAUGACGUAUCUGAAGUCUACUAGGGUGAUCUGACUAA\n",
      "GUGUUAGUGCGCUAGUGCUGACUAGGUACAGUAGCUAGUUACUAG\n"
     ]
    }
   ],
   "source": [
    "print('Sense:')\n",
    "print(SeqA)\n",
    "print(SeqB)\n",
    "\n",
    "print()\n",
    "print('Antisense:')\n",
    "print(SeqA.complement())\n",
    "print(SeqB.complement())\n",
    "\n",
    "print()\n",
    "print('MRNA:')\n",
    "print(f'{mRNAa}')\n",
    "print(f'{mRNAb}')"
   ]
  },
  {
   "cell_type": "markdown",
   "metadata": {},
   "source": [
    "### Combine 25 starting nucleotides of mRNA sequence A and 21 ending nucleotides of mRNA sequence B and set it as mRNA sequence C"
   ]
  },
  {
   "cell_type": "code",
   "execution_count": 14,
   "metadata": {},
   "outputs": [
    {
     "name": "stdout",
     "output_type": "stream",
     "text": [
      "mRNAc: AUGCGUUUAUGACGUAUCUGAAGUCGGUACAGUAGCUAGUUACUAG\n"
     ]
    }
   ],
   "source": [
    "mRNAc = mRNAa[:25] + mRNAb[-21:]\n",
    "print(f'mRNAc: {mRNAc}')"
   ]
  },
  {
   "cell_type": "markdown",
   "metadata": {},
   "source": [
    "### Translate the mRNA sequence A, sequence B, and sequence C into amino acids sequences."
   ]
  },
  {
   "cell_type": "code",
   "execution_count": 18,
   "metadata": {},
   "outputs": [
    {
     "name": "stdout",
     "output_type": "stream",
     "text": [
      "Sequence A: MRL*RI*SLLG*SD*\n",
      "Sequence B: VLVR*C*LGTVASY*\n",
      "Sequence C: MRL*RI*SRYSS*LL\n"
     ]
    }
   ],
   "source": [
    "print(f'Sequence A: {SeqA.translate()}')\n",
    "print(f'Sequence B: {SeqB.translate()}')\n",
    "print(f'Sequence C: {mRNAc.translate()}')"
   ]
  },
  {
   "cell_type": "markdown",
   "metadata": {},
   "source": [
    "### Transcribe back the mRNA sequence C into DNA."
   ]
  },
  {
   "cell_type": "code",
   "execution_count": 19,
   "metadata": {},
   "outputs": [
    {
     "name": "stdout",
     "output_type": "stream",
     "text": [
      "Sequence C back transcribe: ATGCGTTTATGACGTATCTGAAGTCGGTACAGTAGCTAGTTACTAG\n"
     ]
    }
   ],
   "source": [
    "print(f'Sequence C back transcribe: {mRNAc.back_transcribe()}')"
   ]
  },
  {
   "cell_type": "markdown",
   "metadata": {},
   "source": [
    "### Calculate the complementary sequences of DNA sequence A, sequence B, and sequence C."
   ]
  },
  {
   "cell_type": "code",
   "execution_count": 22,
   "metadata": {},
   "outputs": [
    {
     "name": "stdout",
     "output_type": "stream",
     "text": [
      "Complementary DNA of Sequnece A: TACGCAAATACTGCATAGACTTCAGATGATCCCACTAGACTGATT\n",
      "Complementary DNA of Sequnece B: CACAATCACGCGATCACGACTGATCCATGTCATCGATCAATGATC\n",
      "Complementary DNA of Sequnece C: TACGCAAATACTGCATAGACTTCAGCCATGTCATCGATCAATGATC\n"
     ]
    }
   ],
   "source": [
    "print(f'Complementary DNA of Sequnece A: {SeqA.complement()}')\n",
    "print(f'Complementary DNA of Sequnece B: {SeqB.complement()}')\n",
    "print(f'Complementary DNA of Sequnece C: {mRNAc.back_transcribe().complement()}')"
   ]
  }
 ],
 "metadata": {
  "kernelspec": {
   "display_name": "Python 3.11.3 64-bit",
   "language": "python",
   "name": "python3"
  },
  "language_info": {
   "codemirror_mode": {
    "name": "ipython",
    "version": 3
   },
   "file_extension": ".py",
   "mimetype": "text/x-python",
   "name": "python",
   "nbconvert_exporter": "python",
   "pygments_lexer": "ipython3",
   "version": "3.11.3"
  },
  "orig_nbformat": 4,
  "vscode": {
   "interpreter": {
    "hash": "b0fa6594d8f4cbf19f97940f81e996739fb7646882a419484c72d19e05852a7e"
   }
  }
 },
 "nbformat": 4,
 "nbformat_minor": 2
}
