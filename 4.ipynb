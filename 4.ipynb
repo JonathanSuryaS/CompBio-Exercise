{
 "cells": [
  {
   "cell_type": "markdown",
   "metadata": {},
   "source": [
    "# Sequence Alignment"
   ]
  },
  {
   "cell_type": "markdown",
   "metadata": {},
   "source": [
    "# Libraries"
   ]
  },
  {
   "cell_type": "code",
   "execution_count": 5,
   "metadata": {},
   "outputs": [],
   "source": [
    "from Bio.Seq import Seq\n",
    "from Bio import pairwise2\n",
    "from Bio.pairwise2 import format_alignment"
   ]
  },
  {
   "cell_type": "markdown",
   "metadata": {},
   "source": [
    "# Data"
   ]
  },
  {
   "cell_type": "code",
   "execution_count": 4,
   "metadata": {},
   "outputs": [],
   "source": [
    "SeqA = Seq('AAGCTTAGCTAGAGCAGTCAGCTAGCTAGCT')\n",
    "SeqB = Seq('TCTGAAGCTAGCTAGTGCATAGCTAGCTAGC')"
   ]
  },
  {
   "cell_type": "markdown",
   "metadata": {},
   "source": [
    "# Quest"
   ]
  },
  {
   "cell_type": "markdown",
   "metadata": {},
   "source": [
    "Please use Biopython to:<br>\n",
    "•\tDetermine score of best local alignment.<br>\n",
    "•\tCalculate similarity of DNA sequence A and sequence B using hamming distance method.<br>\n",
    "•\tCalculate similarity of DNA sequence A and sequence B using levenshtein distance method.<br>\n",
    "•\tMap DNA sequence A and sequence B similarity using dot plot technique.<br>\n"
   ]
  },
  {
   "cell_type": "markdown",
   "metadata": {},
   "source": [
    "### Determine score of best local alignment"
   ]
  },
  {
   "cell_type": "code",
   "execution_count": 10,
   "metadata": {},
   "outputs": [
    {
     "name": "stdout",
     "output_type": "stream",
     "text": [
      "5 AAGCT-AGCTAGT-GCA-T-AGCTAGCTAGC\n",
      "  ||||| ||||||  ||| | |||||||||||\n",
      "1 AAGCTTAGCTAG-AGCAGTCAGCTAGCTAGC\n",
      "  Score=23.5\n",
      "\n",
      "5 AAGC-TAGCTAGT-GCA-T-AGCTAGCTAGC\n",
      "  |||| |||||||  ||| | |||||||||||\n",
      "1 AAGCTTAGCTAG-AGCAGTCAGCTAGCTAGC\n",
      "  Score=23.5\n",
      "\n",
      "5 AAGCT-AGCTAGTGCA-T-AGCTAGCTAGC\n",
      "  ||||| ||||||.||| | |||||||||||\n",
      "1 AAGCTTAGCTAGAGCAGTCAGCTAGCTAGC\n",
      "  Score=23.5\n",
      "\n",
      "5 AAGC-TAGCTAGTGCA-T-AGCTAGCTAGC\n",
      "  |||| |||||||.||| | |||||||||||\n",
      "1 AAGCTTAGCTAGAGCAGTCAGCTAGCTAGC\n",
      "  Score=23.5\n",
      "\n"
     ]
    }
   ],
   "source": [
    "local_alignment = pairwise2.align.localms(SeqB, SeqA, +1, -1, -0.5, -0.1)\n",
    "for alignment in local_alignment:\n",
    "    print(format_alignment(*alignment))"
   ]
  },
  {
   "cell_type": "markdown",
   "metadata": {},
   "source": [
    "### Calculate Similarity "
   ]
  },
  {
   "cell_type": "markdown",
   "metadata": {},
   "source": [
    "####"
   ]
  },
  {
   "cell_type": "markdown",
   "metadata": {},
   "source": []
  }
 ],
 "metadata": {
  "kernelspec": {
   "display_name": "Python 3.11.3 64-bit",
   "language": "python",
   "name": "python3"
  },
  "language_info": {
   "codemirror_mode": {
    "name": "ipython",
    "version": 3
   },
   "file_extension": ".py",
   "mimetype": "text/x-python",
   "name": "python",
   "nbconvert_exporter": "python",
   "pygments_lexer": "ipython3",
   "version": "3.11.3"
  },
  "orig_nbformat": 4,
  "vscode": {
   "interpreter": {
    "hash": "b0fa6594d8f4cbf19f97940f81e996739fb7646882a419484c72d19e05852a7e"
   }
  }
 },
 "nbformat": 4,
 "nbformat_minor": 2
}
