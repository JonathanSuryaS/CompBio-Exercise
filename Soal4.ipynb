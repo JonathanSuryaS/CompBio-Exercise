{
 "cells": [
  {
   "cell_type": "markdown",
   "metadata": {},
   "source": [
    "# Latihan Soal Case 4"
   ]
  },
  {
   "cell_type": "markdown",
   "metadata": {},
   "source": [
    "# Libraries"
   ]
  },
  {
   "cell_type": "code",
   "execution_count": 20,
   "metadata": {},
   "outputs": [],
   "source": [
    "from Bio.Seq import Seq\n",
    "from Bio import pairwise2\n",
    "from Bio.pairwise2 import format_alignment"
   ]
  },
  {
   "cell_type": "markdown",
   "metadata": {},
   "source": [
    "# Main Program"
   ]
  },
  {
   "cell_type": "markdown",
   "metadata": {},
   "source": [
    "### Sequence"
   ]
  },
  {
   "cell_type": "code",
   "execution_count": 21,
   "metadata": {},
   "outputs": [],
   "source": [
    "SeqA = ('AAGCTTAGCTAGAGCAGTCAGCTAGCTAGCT')\n",
    "SeqB = ('TCTGAAGCTAGCTAGTGCATAGCTAGCTAGC')"
   ]
  },
  {
   "cell_type": "markdown",
   "metadata": {},
   "source": [
    "### Determine score of best local alignment."
   ]
  },
  {
   "cell_type": "code",
   "execution_count": 22,
   "metadata": {},
   "outputs": [
    {
     "name": "stdout",
     "output_type": "stream",
     "text": [
      "5 AAGCT-AGCTAGT-GCA-T-AGCTAGCTAGC\n",
      "  ||||| ||||||  ||| | |||||||||||\n",
      "1 AAGCTTAGCTAG-AGCAGTCAGCTAGCTAGC\n",
      "  Score=26\n",
      "\n",
      "5 AAGC-TAGCTAGT-GCA-T-AGCTAGCTAGC\n",
      "  |||| |||||||  ||| | |||||||||||\n",
      "1 AAGCTTAGCTAG-AGCAGTCAGCTAGCTAGC\n",
      "  Score=26\n",
      "\n",
      "5 AAGCT-AGCTAGTGCA-T-AGCTAGCTAGC\n",
      "  ||||| ||||||.||| | |||||||||||\n",
      "1 AAGCTTAGCTAGAGCAGTCAGCTAGCTAGC\n",
      "  Score=26\n",
      "\n",
      "5 AAGC-TAGCTAGTGCA-T-AGCTAGCTAGC\n",
      "  |||| |||||||.||| | |||||||||||\n",
      "1 AAGCTTAGCTAGAGCAGTCAGCTAGCTAGC\n",
      "  Score=26\n",
      "\n"
     ]
    }
   ],
   "source": [
    "local_alignments = pairwise2.align.localxx(SeqB, SeqA)\n",
    "for alignment in local_alignments:\n",
    "    print(format_alignment(*alignment))"
   ]
  },
  {
   "cell_type": "code",
   "execution_count": 23,
   "metadata": {},
   "outputs": [
    {
     "name": "stdout",
     "output_type": "stream",
     "text": [
      "26.0\n"
     ]
    }
   ],
   "source": [
    "local_alignments = pairwise2.align.localxx(SeqB, SeqA, score_only = True)\n",
    "print(local_alignments)"
   ]
  },
  {
   "cell_type": "markdown",
   "metadata": {},
   "source": [
    "### Hamming Distance"
   ]
  },
  {
   "cell_type": "code",
   "execution_count": 24,
   "metadata": {},
   "outputs": [
    {
     "name": "stdout",
     "output_type": "stream",
     "text": [
      "30\n"
     ]
    }
   ],
   "source": [
    "def Hamming(SeqA, SeqB):\n",
    "    Ham = []\n",
    "    for i, j in zip(SeqA, SeqB):\n",
    "        if (i != j):\n",
    "            Ham.append((i, j))\n",
    "    return len(Ham)\n",
    "print(Hamming(SeqA, SeqB))"
   ]
  },
  {
   "cell_type": "markdown",
   "metadata": {},
   "source": [
    "### Levenshtein"
   ]
  },
  {
   "cell_type": "code",
   "execution_count": 25,
   "metadata": {},
   "outputs": [
    {
     "name": "stdout",
     "output_type": "stream",
     "text": [
      "9\n"
     ]
    }
   ],
   "source": [
    "from Levenshtein import distance\n",
    "print(distance(SeqA, SeqB))"
   ]
  },
  {
   "cell_type": "markdown",
   "metadata": {},
   "source": [
    "### Plot"
   ]
  },
  {
   "cell_type": "code",
   "execution_count": 26,
   "metadata": {},
   "outputs": [],
   "source": [
    "def compare(a, b):\n",
    "    return True if a == b else False"
   ]
  },
  {
   "cell_type": "code",
   "execution_count": 27,
   "metadata": {},
   "outputs": [],
   "source": [
    "def createMatrix(SeqA, SeqB):\n",
    "    matrix = []\n",
    "    for i in SeqA:\n",
    "        row = []\n",
    "        for j in SeqB:\n",
    "            row.append(compare(i, j))\n",
    "        matrix.append(row)\n",
    "    return matrix"
   ]
  },
  {
   "cell_type": "code",
   "execution_count": 28,
   "metadata": {},
   "outputs": [],
   "source": [
    "def renderMatrix(SeqA, SeqB):\n",
    "    matrix = createMatrix(SeqA, SeqB)\n",
    "    renderedMatrix = []\n",
    "    print(' ' + SeqB)\n",
    "    for i, j in zip(matrix, SeqA):\n",
    "        row = ''\n",
    "        row = row + j + '|'\n",
    "        for l in i:\n",
    "            if (l):\n",
    "                row += '#'\n",
    "            else:\n",
    "                row += ' '\n",
    "        print(row)"
   ]
  },
  {
   "cell_type": "code",
   "execution_count": 29,
   "metadata": {},
   "outputs": [
    {
     "name": "stdout",
     "output_type": "stream",
     "text": [
      " TCTGAAGCTAGCTAGTGCATAGCTAGCTAGC\n",
      "A|    ##   #   #    # #   #   #  \n",
      "A|    ##   #   #    # #   #   #  \n",
      "G|   #  #   #   # #    #   #   # \n",
      "C| #     #   #     #    #   #   #\n",
      "T|# #     #   #  #   #   #   #   \n",
      "T|# #     #   #  #   #   #   #   \n",
      "A|    ##   #   #    # #   #   #  \n",
      "G|   #  #   #   # #    #   #   # \n",
      "C| #     #   #     #    #   #   #\n",
      "T|# #     #   #  #   #   #   #   \n",
      "A|    ##   #   #    # #   #   #  \n",
      "G|   #  #   #   # #    #   #   # \n",
      "A|    ##   #   #    # #   #   #  \n",
      "G|   #  #   #   # #    #   #   # \n",
      "C| #     #   #     #    #   #   #\n",
      "A|    ##   #   #    # #   #   #  \n",
      "G|   #  #   #   # #    #   #   # \n",
      "T|# #     #   #  #   #   #   #   \n",
      "C| #     #   #     #    #   #   #\n",
      "A|    ##   #   #    # #   #   #  \n",
      "G|   #  #   #   # #    #   #   # \n",
      "C| #     #   #     #    #   #   #\n",
      "T|# #     #   #  #   #   #   #   \n",
      "A|    ##   #   #    # #   #   #  \n",
      "G|   #  #   #   # #    #   #   # \n",
      "C| #     #   #     #    #   #   #\n",
      "T|# #     #   #  #   #   #   #   \n",
      "A|    ##   #   #    # #   #   #  \n",
      "G|   #  #   #   # #    #   #   # \n",
      "C| #     #   #     #    #   #   #\n",
      "T|# #     #   #  #   #   #   #   \n"
     ]
    }
   ],
   "source": [
    "renderMatrix(SeqA, SeqB)"
   ]
  },
  {
   "cell_type": "code",
   "execution_count": 34,
   "metadata": {},
   "outputs": [
    {
     "data": {
      "image/png": "[encoded data removed]",
      "text/plain": [
       "<Figure size 640x480 with 1 Axes>"
      ]
     },
     "metadata": {},
     "output_type": "display_data"
    }
   ],
   "source": [
    "import matplotlib.pyplot as plt\n",
    "import numpy as np\n",
    "\n",
    "plt.imshow(np.array(createMatrix(SeqA, SeqB)))\n",
    "plt.yticks(np.arange(len(SeqA)), SeqA)\n",
    "plt.xticks(np.arange(len(SeqB)), SeqB)\n",
    "plt.show()"
   ]
  }
 ],
 "metadata": {
  "kernelspec": {
   "display_name": "Python 3.11.3 64-bit",
   "language": "python",
   "name": "python3"
  },
  "language_info": {
   "codemirror_mode": {
    "name": "ipython",
    "version": 3
   },
   "file_extension": ".py",
   "mimetype": "text/x-python",
   "name": "python",
   "nbconvert_exporter": "python",
   "pygments_lexer": "ipython3",
   "version": "3.11.3"
  },
  "orig_nbformat": 4,
  "vscode": {
   "interpreter": {
    "hash": "b0fa6594d8f4cbf19f97940f81e996739fb7646882a419484c72d19e05852a7e"
   }
  }
 },
 "nbformat": 4,
 "nbformat_minor": 2
}
