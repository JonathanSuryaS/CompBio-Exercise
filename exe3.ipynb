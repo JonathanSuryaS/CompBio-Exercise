{
 "cells": [
  {
   "cell_type": "markdown",
   "metadata": {},
   "source": [
    "# Libraries"
   ]
  },
  {
   "cell_type": "code",
   "execution_count": 10,
   "metadata": {},
   "outputs": [],
   "source": [
    "from Bio.Seq import Seq\n",
    "from Bio.Data import CodonTable"
   ]
  },
  {
   "cell_type": "markdown",
   "metadata": {},
   "source": [
    "# Data"
   ]
  },
  {
   "cell_type": "code",
   "execution_count": 11,
   "metadata": {},
   "outputs": [],
   "source": [
    "SeqA = Seq('ATGCGTTTATGACGTATCTGAAGTCTACTAGGGTGATCTGACTAA')\n",
    "SeqB = Seq('GTGTTAGTGCGCTAGTGCTGACTAGGTACAGTAGCTAGTTACTAG')"
   ]
  },
  {
   "cell_type": "markdown",
   "metadata": {},
   "source": [
    "# Quiz"
   ]
  },
  {
   "cell_type": "markdown",
   "metadata": {},
   "source": [
    "## Transcribe the DNA sequence A and sequence B into mRNA."
   ]
  },
  {
   "cell_type": "code",
   "execution_count": 12,
   "metadata": {},
   "outputs": [
    {
     "name": "stdout",
     "output_type": "stream",
     "text": [
      "mRNA of Sequence A:  AUGCGUUUAUGACGUAUCUGAAGUCUACUAGGGUGAUCUGACUAA\n",
      "mRNA of Sequence B:  GUGUUAGUGCGCUAGUGCUGACUAGGUACAGUAGCUAGUUACUAG\n"
     ]
    }
   ],
   "source": [
    "rnaA = SeqA.transcribe()\n",
    "rnaB = SeqB.transcribe()\n",
    "print('mRNA of Sequence A: ', rnaA)\n",
    "print('mRNA of Sequence B: ', rnaB)"
   ]
  },
  {
   "cell_type": "markdown",
   "metadata": {},
   "source": [
    "## Combine 24 starting nucleotides of mRNA sequence A and 21 ending nucleotides of mRNA sequence B and set it as mRNA sequence C."
   ]
  },
  {
   "cell_type": "code",
   "execution_count": 13,
   "metadata": {},
   "outputs": [
    {
     "name": "stdout",
     "output_type": "stream",
     "text": [
      "mRNA of Sequence C:  AUGCGUUUAUGACGUAUCUGAAGUGGUACAGUAGCUAGUUACUAG\n"
     ]
    }
   ],
   "source": [
    "rnaC = rnaA[:24] + rnaB[-21:]\n",
    "print('mRNA of Sequence C: ', rnaC)"
   ]
  },
  {
   "cell_type": "markdown",
   "metadata": {},
   "source": [
    "## Translate the mRNA sequence A, sequence B, and sequence C into amino acids sequences."
   ]
  },
  {
   "cell_type": "code",
   "execution_count": 18,
   "metadata": {},
   "outputs": [
    {
     "name": "stdout",
     "output_type": "stream",
     "text": [
      "Amino Acid of Sequence A: MRL*RI*SLLG*SD*\n",
      "Amino Acid of Sequence B: VLVR*C*LGTVASY*\n",
      "Amino Acid of Sequence C: MRL*RI*SGTVASY*\n"
     ]
    }
   ],
   "source": [
    "print(f\"Amino Acid of Sequence A: {rnaA.translate()}\")\n",
    "print(f\"Amino Acid of Sequence B: {rnaB.translate()}\")\n",
    "print(f\"Amino Acid of Sequence C: {rnaC.translate()}\")"
   ]
  },
  {
   "cell_type": "markdown",
   "metadata": {},
   "source": [
    "## Calculate the complementary sequences of DNA sequence A, sequence B, and sequence C."
   ]
  },
  {
   "cell_type": "code",
   "execution_count": 19,
   "metadata": {},
   "outputs": [
    {
     "name": "stdout",
     "output_type": "stream",
     "text": [
      "Complementary sequence of DNA sequence A: TACGCAAATACTGCATAGACTTCAGATGATCCCACTAGACTGATT\n",
      "Complementary sequence of DNA sequence B: CACAATCACGCGATCACGACTGATCCATGTCATCGATCAATGATC\n",
      "Complementary sequence of DNA sequence C: TACGCAAATACTGCATAGACTTCACCATGTCATCGATCAATGATC\n"
     ]
    }
   ],
   "source": [
    "print(f\"Complementary sequence of DNA sequence A: {SeqA.complement()}\")\n",
    "print(f\"Complementary sequence of DNA sequence B: {SeqB.complement()}\")\n",
    "print(f\"Complementary sequence of DNA sequence C: {rnaC.back_transcribe().complement()}\")"
   ]
  },
  {
   "cell_type": "code",
   "execution_count": null,
   "metadata": {},
   "outputs": [],
   "source": []
  }
 ],
 "metadata": {
  "kernelspec": {
   "display_name": "base",
   "language": "python",
   "name": "python3"
  },
  "language_info": {
   "codemirror_mode": {
    "name": "ipython",
    "version": 3
   },
   "file_extension": ".py",
   "mimetype": "text/x-python",
   "name": "python",
   "nbconvert_exporter": "python",
   "pygments_lexer": "ipython3",
   "version": "3.11.7"
  }
 },
 "nbformat": 4,
 "nbformat_minor": 2
}
