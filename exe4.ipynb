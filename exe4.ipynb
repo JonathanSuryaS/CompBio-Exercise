{
 "cells": [
  {
   "cell_type": "markdown",
   "metadata": {},
   "source": [
    "# Libraries"
   ]
  },
  {
   "cell_type": "code",
   "execution_count": 1,
   "metadata": {},
   "outputs": [
    {
     "name": "stderr",
     "output_type": "stream",
     "text": [
      "c:\\Users\\user\\anaconda3\\Lib\\site-packages\\Bio\\pairwise2.py:278: BiopythonDeprecationWarning: Bio.pairwise2 has been deprecated, and we intend to remove it in a future release of Biopython. As an alternative, please consider using Bio.Align.PairwiseAligner as a replacement, and contact the Biopython developers if you still need the Bio.pairwise2 module.\n",
      "  warnings.warn(\n"
     ]
    }
   ],
   "source": [
    "from Bio.Seq import Seq\n",
    "from Bio.pairwise2 import format_alignment\n",
    "from Bio import pairwise2"
   ]
  },
  {
   "cell_type": "markdown",
   "metadata": {},
   "source": [
    "# Data"
   ]
  },
  {
   "cell_type": "code",
   "execution_count": 2,
   "metadata": {},
   "outputs": [],
   "source": [
    "SeqA = Seq('AAGCTTAGCTAGAGCAGTCAGCTAGCTAGCT')\n",
    "SeqB = Seq('TCTGAAGCTAGCTAGTGCATAGCTAGCTAGC')"
   ]
  },
  {
   "cell_type": "markdown",
   "metadata": {},
   "source": [
    "# QUiz"
   ]
  },
  {
   "cell_type": "markdown",
   "metadata": {},
   "source": [
    "### Determine the score of best local alignment"
   ]
  },
  {
   "cell_type": "code",
   "execution_count": 3,
   "metadata": {},
   "outputs": [
    {
     "name": "stdout",
     "output_type": "stream",
     "text": [
      "1 AAGCTTAGCTAGA-GCAGTCAGCTAGCTAGC\n",
      "  |||| |||||||  ||| | |||||||||||\n",
      "5 AAGC-TAGCTAG-TGCA-T-AGCTAGCTAGC\n",
      "  Score=26\n",
      "\n",
      "1 AAGCTTAGCTAGA-GCAGTCAGCTAGCTAGC\n",
      "  ||||| ||||||  ||| | |||||||||||\n",
      "5 AAGCT-AGCTAG-TGCA-T-AGCTAGCTAGC\n",
      "  Score=26\n",
      "\n",
      "1 AAGCTTAGCTAGAGCAGTCAGCTAGCTAGC\n",
      "  |||| |||||||.||| | |||||||||||\n",
      "5 AAGC-TAGCTAGTGCA-T-AGCTAGCTAGC\n",
      "  Score=26\n",
      "\n",
      "1 AAGCTTAGCTAGAGCAGTCAGCTAGCTAGC\n",
      "  ||||| ||||||.||| | |||||||||||\n",
      "5 AAGCT-AGCTAGTGCA-T-AGCTAGCTAGC\n",
      "  Score=26\n",
      "\n"
     ]
    }
   ],
   "source": [
    "local = pairwise2.align.localxx(SeqA, SeqB)\n",
    "for l in local:\n",
    "    print(format_alignment(*l))"
   ]
  },
  {
   "cell_type": "markdown",
   "metadata": {},
   "source": [
    "### Calculate Similarity using Ditance"
   ]
  },
  {
   "cell_type": "markdown",
   "metadata": {},
   "source": [
    "#### Hamming Distance"
   ]
  },
  {
   "cell_type": "code",
   "execution_count": 11,
   "metadata": {},
   "outputs": [
    {
     "name": "stdout",
     "output_type": "stream",
     "text": [
      "30\n"
     ]
    }
   ],
   "source": [
    "def hamming(SeqA, SeqB):\n",
    "    h = 0\n",
    "    for x,y in zip(SeqA, SeqB):\n",
    "        if x != y:\n",
    "            h += 1\n",
    "    return h\n",
    "hammer = hamming(SeqA,SeqB)\n",
    "print(hammer)"
   ]
  },
  {
   "cell_type": "markdown",
   "metadata": {},
   "source": [
    "#### Levensthein"
   ]
  },
  {
   "cell_type": "code",
   "execution_count": 9,
   "metadata": {},
   "outputs": [
    {
     "name": "stdout",
     "output_type": "stream",
     "text": [
      "Levenshtein distance: 9\n"
     ]
    }
   ],
   "source": [
    "from Levenshtein import distance\n",
    "print(f\"Levenshtein distance: {distance(SeqA, SeqB)}\")"
   ]
  },
  {
   "cell_type": "markdown",
   "metadata": {},
   "source": [
    "# DotPlus"
   ]
  },
  {
   "cell_type": "code",
   "execution_count": 15,
   "metadata": {},
   "outputs": [],
   "source": [
    "def compare(a, b):\n",
    "    return True if a == b else False"
   ]
  },
  {
   "cell_type": "code",
   "execution_count": 20,
   "metadata": {},
   "outputs": [],
   "source": [
    "def create_matrix(SeqA, SeqB):\n",
    "    matrix = []\n",
    "    for x in SeqA:\n",
    "        row = []\n",
    "        for y in SeqB:\n",
    "            row.append(compare(x, y))\n",
    "        matrix.append(row)\n",
    "    return matrix    "
   ]
  },
  {
   "cell_type": "code",
   "execution_count": 21,
   "metadata": {},
   "outputs": [
    {
     "data": {
      "text/plain": [
       "<matplotlib.image.AxesImage at 0x23d826c1950>"
      ]
     },
     "execution_count": 21,
     "metadata": {},
     "output_type": "execute_result"
    },
    {
     "data": {
      "image/png": "[encoded data removed]",
      "text/plain": [
       "<Figure size 640x480 with 1 Axes>"
      ]
     },
     "metadata": {},
     "output_type": "display_data"
    }
   ],
   "source": [
    "import matplotlib.pyplot as plt, numpy as np\n",
    "plt.imshow(np.array(create_matrix(SeqA,SeqB)))"
   ]
  },
  {
   "cell_type": "markdown",
   "metadata": {},
   "source": [
    "### DotPlus"
   ]
  },
  {
   "cell_type": "code",
   "execution_count": 33,
   "metadata": {},
   "outputs": [
    {
     "name": "stdout",
     "output_type": "stream",
     "text": [
      " |TCTGAAGCTAGCTAGTGCATAGCTAGCTAGC\n",
      "----------------------------------\n",
      "A|    XX   X   X    X X   X   X  \n",
      "A|    XX   X   X    X X   X   X  \n",
      "G|   X  X   X   X X    X   X   X \n",
      "C| X     X   X     X    X   X   X\n",
      "T|X X     X   X  X   X   X   X   \n",
      "T|X X     X   X  X   X   X   X   \n",
      "A|    XX   X   X    X X   X   X  \n",
      "G|   X  X   X   X X    X   X   X \n",
      "C| X     X   X     X    X   X   X\n",
      "T|X X     X   X  X   X   X   X   \n",
      "A|    XX   X   X    X X   X   X  \n",
      "G|   X  X   X   X X    X   X   X \n",
      "A|    XX   X   X    X X   X   X  \n",
      "G|   X  X   X   X X    X   X   X \n",
      "C| X     X   X     X    X   X   X\n",
      "A|    XX   X   X    X X   X   X  \n",
      "G|   X  X   X   X X    X   X   X \n",
      "T|X X     X   X  X   X   X   X   \n",
      "C| X     X   X     X    X   X   X\n",
      "A|    XX   X   X    X X   X   X  \n",
      "G|   X  X   X   X X    X   X   X \n",
      "C| X     X   X     X    X   X   X\n",
      "T|X X     X   X  X   X   X   X   \n",
      "A|    XX   X   X    X X   X   X  \n",
      "G|   X  X   X   X X    X   X   X \n",
      "C| X     X   X     X    X   X   X\n",
      "T|X X     X   X  X   X   X   X   \n",
      "A|    XX   X   X    X X   X   X  \n",
      "G|   X  X   X   X X    X   X   X \n",
      "C| X     X   X     X    X   X   X\n",
      "T|X X     X   X  X   X   X   X   \n"
     ]
    }
   ],
   "source": [
    "def dotplus(SeqA, SeqB):\n",
    "    print(' |' + SeqB)\n",
    "    print('-' * (len(SeqA)+3))\n",
    "    for x in SeqA:\n",
    "        print(x+'|', end = '')\n",
    "        for y in SeqB:\n",
    "            print('X' if x == y else ' ', end='')\n",
    "        print('')\n",
    "\n",
    "dotplus(SeqA,SeqB)"
   ]
  }
 ],
 "metadata": {
  "kernelspec": {
   "display_name": "base",
   "language": "python",
   "name": "python3"
  },
  "language_info": {
   "codemirror_mode": {
    "name": "ipython",
    "version": 3
   },
   "file_extension": ".py",
   "mimetype": "text/x-python",
   "name": "python",
   "nbconvert_exporter": "python",
   "pygments_lexer": "ipython3",
   "version": "3.11.7"
  }
 },
 "nbformat": 4,
 "nbformat_minor": 2
}
