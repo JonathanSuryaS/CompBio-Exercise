{
 "cells": [
  {
   "cell_type": "markdown",
   "metadata": {},
   "source": [
    "# Libraries"
   ]
  },
  {
   "cell_type": "code",
   "execution_count": 27,
   "metadata": {},
   "outputs": [],
   "source": [
    "from Bio.Seq import Seq\n",
    "from Bio.pairwise2 import format_alignment\n",
    "from Bio import pairwise2\n",
    "import matplotlib.pyplot as plt, numpy as np"
   ]
  },
  {
   "cell_type": "markdown",
   "metadata": {},
   "source": [
    "# Data"
   ]
  },
  {
   "cell_type": "code",
   "execution_count": 2,
   "metadata": {},
   "outputs": [],
   "source": [
    "SeqA = Seq('AAGCTTAGCTAGAGCAGTCAGCTAGCTAGCT')\n",
    "SeqB = Seq('TCTGAAGCTAGCTAGTGCATAGCTAGCTAGC')"
   ]
  },
  {
   "cell_type": "markdown",
   "metadata": {},
   "source": [
    "# Quiz"
   ]
  },
  {
   "cell_type": "markdown",
   "metadata": {},
   "source": [
    "### 1. Determine score of best local alingnment"
   ]
  },
  {
   "cell_type": "code",
   "execution_count": 4,
   "metadata": {},
   "outputs": [
    {
     "name": "stdout",
     "output_type": "stream",
     "text": [
      "1 AAGCTTAGCTAGA-GCAGTCAGCTAGCTAGC\n",
      "  |||| |||||||  ||| | |||||||||||\n",
      "5 AAGC-TAGCTAG-TGCA-T-AGCTAGCTAGC\n",
      "  Score=26\n",
      "\n",
      "1 AAGCTTAGCTAGA-GCAGTCAGCTAGCTAGC\n",
      "  ||||| ||||||  ||| | |||||||||||\n",
      "5 AAGCT-AGCTAG-TGCA-T-AGCTAGCTAGC\n",
      "  Score=26\n",
      "\n",
      "1 AAGCTTAGCTAGAGCAGTCAGCTAGCTAGC\n",
      "  |||| |||||||.||| | |||||||||||\n",
      "5 AAGC-TAGCTAGTGCA-T-AGCTAGCTAGC\n",
      "  Score=26\n",
      "\n",
      "1 AAGCTTAGCTAGAGCAGTCAGCTAGCTAGC\n",
      "  ||||| ||||||.||| | |||||||||||\n",
      "5 AAGCT-AGCTAGTGCA-T-AGCTAGCTAGC\n",
      "  Score=26\n",
      "\n"
     ]
    }
   ],
   "source": [
    "local_alingment = pairwise2.align.localxx(SeqA, SeqB)\n",
    "for l in local_alingment:\n",
    "    print(format_alignment(*l))"
   ]
  },
  {
   "cell_type": "code",
   "execution_count": 7,
   "metadata": {},
   "outputs": [
    {
     "name": "stdout",
     "output_type": "stream",
     "text": [
      "26.0\n"
     ]
    }
   ],
   "source": [
    "local_alignments = pairwise2.align.localxx(SeqB, SeqA, score_only = True)\n",
    "print(local_alignments)"
   ]
  },
  {
   "cell_type": "markdown",
   "metadata": {},
   "source": [
    "### 2. Determine the similarity of DNA sequence A and sequence B using Hamming distance."
   ]
  },
  {
   "cell_type": "code",
   "execution_count": 11,
   "metadata": {},
   "outputs": [
    {
     "name": "stdout",
     "output_type": "stream",
     "text": [
      "The similarity of Sequence A and Sequence B by Hamming distance: 30\n"
     ]
    }
   ],
   "source": [
    "def hammin(SeqA, SeqB):\n",
    "    h = 0\n",
    "    for x,y in zip(SeqA, SeqB):\n",
    "        if x!=y:\n",
    "            h += 1\n",
    "    return h\n",
    "print(f\"The similarity of Sequence A and Sequence B by Hamming distance: {hammin(SeqA, SeqB)}\")"
   ]
  },
  {
   "cell_type": "markdown",
   "metadata": {},
   "source": [
    "### 4. Calculate the similarity of DNA Sequence A and Sequence B using Levenshtein Distance"
   ]
  },
  {
   "cell_type": "code",
   "execution_count": 12,
   "metadata": {},
   "outputs": [
    {
     "name": "stdout",
     "output_type": "stream",
     "text": [
      "The similarity of Sequence A and Sequence B by Levenshtein Distance: 9\n"
     ]
    }
   ],
   "source": [
    "from Levenshtein import distance\n",
    "print(f\"The similarity of Sequence A and Sequence B by Levenshtein Distance: {distance(SeqA, SeqB)}\")"
   ]
  },
  {
   "cell_type": "markdown",
   "metadata": {},
   "source": [
    "### 5. Map DNA Sequence A and Sequence B Similarity using dot plt technique"
   ]
  },
  {
   "cell_type": "code",
   "execution_count": 24,
   "metadata": {},
   "outputs": [
    {
     "name": "stdout",
     "output_type": "stream",
     "text": [
      " |TCTGAAGCTAGCTAGTGCATAGCTAGCTAGC\n",
      "---------------------------------\n",
      "A|    XX   X   X    X X   X   X  \n",
      "A|    XX   X   X    X X   X   X  \n",
      "G|   X  X   X   X X    X   X   X \n",
      "C| X     X   X     X    X   X   X\n",
      "T|X X     X   X  X   X   X   X   \n",
      "T|X X     X   X  X   X   X   X   \n",
      "A|    XX   X   X    X X   X   X  \n",
      "G|   X  X   X   X X    X   X   X \n",
      "C| X     X   X     X    X   X   X\n",
      "T|X X     X   X  X   X   X   X   \n",
      "A|    XX   X   X    X X   X   X  \n",
      "G|   X  X   X   X X    X   X   X \n",
      "A|    XX   X   X    X X   X   X  \n",
      "G|   X  X   X   X X    X   X   X \n",
      "C| X     X   X     X    X   X   X\n",
      "A|    XX   X   X    X X   X   X  \n",
      "G|   X  X   X   X X    X   X   X \n",
      "T|X X     X   X  X   X   X   X   \n",
      "C| X     X   X     X    X   X   X\n",
      "A|    XX   X   X    X X   X   X  \n",
      "G|   X  X   X   X X    X   X   X \n",
      "C| X     X   X     X    X   X   X\n",
      "T|X X     X   X  X   X   X   X   \n",
      "A|    XX   X   X    X X   X   X  \n",
      "G|   X  X   X   X X    X   X   X \n",
      "C| X     X   X     X    X   X   X\n",
      "T|X X     X   X  X   X   X   X   \n",
      "A|    XX   X   X    X X   X   X  \n",
      "G|   X  X   X   X X    X   X   X \n",
      "C| X     X   X     X    X   X   X\n",
      "T|X X     X   X  X   X   X   X   \n"
     ]
    }
   ],
   "source": [
    "def dot_plus(SeqA, SeqB):\n",
    "    print(' |' + SeqB)\n",
    "    print('-' * (len(SeqB) + 2))\n",
    "    for x in SeqA:\n",
    "        print(x+'|', end = '')\n",
    "        for y in SeqB:\n",
    "            if x == y:\n",
    "                print('X', end = '')\n",
    "            else:\n",
    "                print(' ', end = '')\n",
    "        print('')\n",
    "dot_plus(SeqA, SeqB)"
   ]
  },
  {
   "cell_type": "code",
   "execution_count": 25,
   "metadata": {},
   "outputs": [],
   "source": [
    "def pair(a,b):\n",
    "    return True if a == b else False"
   ]
  },
  {
   "cell_type": "code",
   "execution_count": 37,
   "metadata": {},
   "outputs": [
    {
     "data": {
      "image/png": "[encoded data removed]",
      "text/plain": [
       "<Figure size 640x480 with 1 Axes>"
      ]
     },
     "metadata": {},
     "output_type": "display_data"
    }
   ],
   "source": [
    "def create_matrix(SeqA, SeqB):\n",
    "    matrix = []\n",
    "    for x in SeqA:\n",
    "        row = []\n",
    "        for y in SeqB:\n",
    "            row.append(pair(x, y))\n",
    "        matrix.append(row)\n",
    "    return matrix\n",
    "\n",
    "plt.imshow(np.array(create_matrix(SeqA, SeqB)))\n",
    "plt.xticks(np.arange(len(SeqB)), SeqB)\n",
    "plt.yticks(np.arange(len(SeqA)), SeqA)\n",
    "plt.show()"
   ]
  }
 ],
 "metadata": {
  "kernelspec": {
   "display_name": "base",
   "language": "python",
   "name": "python3"
  },
  "language_info": {
   "codemirror_mode": {
    "name": "ipython",
    "version": 3
   },
   "file_extension": ".py",
   "mimetype": "text/x-python",
   "name": "python",
   "nbconvert_exporter": "python",
   "pygments_lexer": "ipython3",
   "version": "3.11.7"
  }
 },
 "nbformat": 4,
 "nbformat_minor": 2
}
